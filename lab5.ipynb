{
 "cells": [
  {
   "cell_type": "code",
   "execution_count": 21,
   "metadata": {},
   "outputs": [
    {
     "name": "stdout",
     "output_type": "stream",
     "text": [
      "Task1:\n",
      "is 12.083\n"
     ]
    }
   ],
   "source": [
    "import math\n",
    "\n",
    "\n",
    "class Point(object):\n",
    "    print(\"Task1:\")\n",
    "\n",
    "point_one = Point()\n",
    "point_two = Point()\n",
    "\n",
    "point_one.x, point_one.y = 5.0, 5.0\n",
    "point_two.x, point_two.y = 16.0, 10.0\n",
    "\n",
    "\n",
    "def distance(p1, p2):\n",
    "    \n",
    "    delta_x = p2.x - p1.x\n",
    "    delta_y = p2.y - p1.y\n",
    "    return math.sqrt(delta_x ** 2 + delta_y ** 2)\n",
    "\n",
    "print (\"is %.3f\" % distance(point_one, point_two))\n",
    "\n"
   ]
  },
  {
   "cell_type": "code",
   "execution_count": null,
   "metadata": {},
   "outputs": [],
   "source": []
  },
  {
   "cell_type": "code",
   "execution_count": 22,
   "metadata": {},
   "outputs": [
    {
     "name": "stdout",
     "output_type": "stream",
     "text": [
      "Task2:\n",
      "Task2:part2\n",
      "0.0\n",
      "0.0\n",
      "4.0\n",
      "3.0\n"
     ]
    }
   ],
   "source": [
    "class Point(object):\n",
    "    print(\"Task2:\")\n",
    "    \n",
    "\n",
    "class Rectangle(object):\n",
    "    print(\"Task2:part2\")\n",
    "\n",
    "def move_rectangle(rect, dx, dy):\n",
    "    rect.corner.x += dx\n",
    "    rect.corner.y += dy\n",
    "\n",
    "\n",
    "box = Rectangle()\n",
    "\n",
    "box.width = 100.0\n",
    "box.height = 200.0\n",
    "\n",
    "box.corner = Point()\n",
    "\n",
    "box.corner.x = 0.0\n",
    "box.corner.y = 0.0\n",
    "\n",
    "print (box.corner.x)\n",
    "print (box.corner.y)\n",
    "\n",
    "move_rectangle(box, 4.0, 3.0)\n",
    "\n",
    "print (box.corner.x)\n",
    "print (box.corner.y)"
   ]
  },
  {
   "cell_type": "code",
   "execution_count": 39,
   "metadata": {},
   "outputs": [
    {
     "name": "stdout",
     "output_type": "stream",
     "text": [
      "x = 5\n",
      "y = 5\n"
     ]
    }
   ],
   "source": [
    "class Point(object):\n",
    "    def __init__(self, x=0, y=0):\n",
    "        self.x = x\n",
    "        self.y = y\n",
    "        \n",
    "    def print_point(self):\n",
    "        print (\"x =\", self.x)\n",
    "        print (\"y =\", self.y)\n",
    "\n",
    "point = Point(5,5)\n",
    "point.print_point()\n"
   ]
  },
  {
   "cell_type": "code",
   "execution_count": 36,
   "metadata": {},
   "outputs": [
    {
     "name": "stdout",
     "output_type": "stream",
     "text": [
      "x = 0\n",
      "y = 0\n",
      "(5, 5)\n"
     ]
    }
   ],
   "source": [
    "class Point(object):\n",
    "    def __init__(self, x=0, y=0):\n",
    "        self.x = x\n",
    "        self.y = y\n",
    "        \n",
    "    def __str__(self):\n",
    "        return '(%d, %d)' % (self.x, self.y)\n",
    "\n",
    "        \n",
    "    def print_point(self):\n",
    "        print (\"x =\", self.x)\n",
    "        print (\"y =\", self.y)\n",
    "\n",
    "\n",
    "point = Point()\n",
    "point.print_point()\n",
    "\n",
    "point = Point(5,5)\n",
    "print (point)\n"
   ]
  },
  {
   "cell_type": "code",
   "execution_count": 41,
   "metadata": {},
   "outputs": [
    {
     "name": "stdout",
     "output_type": "stream",
     "text": [
      "(19, 9)\n"
     ]
    }
   ],
   "source": [
    "class Point(object):\n",
    "    def __init__(self, x=0, y=0):\n",
    "        self.x = x\n",
    "        self.y = y\n",
    "\n",
    "    def __str__(self):\n",
    "        return '(%d, %d)' % (self.x, self.y)\n",
    "\n",
    "    def __add__(self, other):\n",
    "        x = self.x + other.x\n",
    "        y = self.y + other.y\n",
    "        return Point(x, y)\n",
    "\n",
    "point1 = Point(10, 3)\n",
    "point2 = Point(9, 6)\n",
    "\n",
    "print (point1 + point2)"
   ]
  },
  {
   "cell_type": "code",
   "execution_count": 42,
   "metadata": {},
   "outputs": [
    {
     "name": "stdout",
     "output_type": "stream",
     "text": [
      "2:31:11\n",
      "False\n"
     ]
    }
   ],
   "source": [
    "class Time:\n",
    "  def __init__(self,h,m,s):\n",
    "    self.hour = h\n",
    "    self.minutes = m \n",
    "    self.seconds=s\n",
    "  \n",
    "  def __str__(self):\n",
    "    return f'{self.hour}:{self.minutes}:{self.seconds}'\n",
    "\n",
    "def is_after(t1,t2):\n",
    "  t1 = [t1.hour]\n",
    "  t2 = [t2.hour]\n",
    "  return t1<t2\n",
    "\n",
    "t = Time(2,31,11)\n",
    "print(t)\n",
    "t1 = Time(2,31,10)\n",
    "t_final = is_after(t,t1)    \n",
    "print(t_final)"
   ]
  },
  {
   "cell_type": "code",
   "execution_count": 46,
   "metadata": {},
   "outputs": [],
   "source": [
    "class Kangaroo(object):\n",
    "    def __init__(self):\n",
    "        self.pouch_contents = []\n",
    "    \n",
    "    def put_in_pouch(self, thing):\n",
    "        self.pouch_contents.append(thing)\n",
    "    \n",
    "    def __str__(self):\n",
    "        return \"I have {} in my pouch\".format(self.pouch_contents)\n",
    "    \n",
    "    def __repr__(self):\n",
    "        return 'Kangaroo <{}>'.format(self.pouch_contents)\n"
   ]
  },
  {
   "cell_type": "code",
   "execution_count": 47,
   "metadata": {},
   "outputs": [
    {
     "name": "stdout",
     "output_type": "stream",
     "text": [
      "pouch contains [[]]\n"
     ]
    }
   ],
   "source": [
    "k = kangaroo()\n",
    "r = kangaroo()\n",
    "k.put_in_pouch(r)\n",
    "print(k)"
   ]
  },
  {
   "cell_type": "code",
   "execution_count": 51,
   "metadata": {},
   "outputs": [
    {
     "name": "stdout",
     "output_type": "stream",
     "text": [
      "True\tFalse\tFalse\t\n",
      "True\tTrue\tFalse\t\n",
      "True\tTrue\tTrue\t\n"
     ]
    }
   ],
   "source": [
    "class Vehicle:\n",
    "  pass\n",
    "class LandVehicle(Vehicle):\n",
    "  pass\n",
    "class TrackedVehicle(LandVehicle):\n",
    "  pass\n",
    "for cell1 in [Vehicle, LandVehicle, TrackedVehicle]:\n",
    "  for cell2 in [Vehicle, LandVehicle, TrackedVehicle]:\n",
    "    print(issubclass(cell1, cell2),end='\\t')\n",
    "  print()"
   ]
  },
  {
   "cell_type": "code",
   "execution_count": 48,
   "metadata": {},
   "outputs": [],
   "source": [
    "\"Homework task 1\"\n",
    "class Point:\n",
    "  def __init__(self,x,y):\n",
    "    self.x = x\n",
    "    self.y = y\n",
    "  def __add__(self,object):\n",
    "    if isinstance(object,Point):\n",
    "      return Point(self.x + object.x, self.y + object.y)\n",
    "    elif isinstance(object,tuple):\n",
    "      return Point(self.x + object[0], self.y + object[1])\n",
    "  def __repr__(self):\n",
    "    return u'Point ({0},{1})'.format(self.x,self.y)\n"
   ]
  },
  {
   "cell_type": "code",
   "execution_count": null,
   "metadata": {},
   "outputs": [],
   "source": []
  },
  {
   "cell_type": "code",
   "execution_count": 49,
   "metadata": {},
   "outputs": [
    {
     "name": "stdout",
     "output_type": "stream",
     "text": [
      "Point (17,37)\n"
     ]
    }
   ],
   "source": [
    "p = Point(12,33)\n",
    "print(p+ (5,4))"
   ]
  },
  {
   "cell_type": "code",
   "execution_count": 54,
   "metadata": {},
   "outputs": [],
   "source": [
    "class Ipv4(object):\n",
    "  def __init__(self,network,mask):\n",
    "    self.network = network\n",
    "    self.mask = mask\n",
    "  \n",
    "  def __str__(self):\n",
    "    return f'Ip :({self.network},{self.mask})'\n",
    "  \n",
    "  def getNetwork(self):\n",
    "    l1 = []\n",
    "    for i in self.network:\n",
    "      l1.append(i)\n",
    "    l1.pop()\n",
    "    l1.append(0)\n",
    "    return l1\n",
    "  \n",
    "  def getMask(self):\n",
    "    if self.mask == 8:\n",
    "      mask = [255,0,0,0]\n",
    "      return mask\n",
    "    elif self.mask == 16:\n",
    "      mask = [255,255,0,0]\n",
    "      return mask\n",
    "    elif self.mask == 24:\n",
    "      mask = [255,255,255,0]\n",
    "      return mask\n",
    "    elif self.mask == 32:\n",
    "      mask = [255,255,255,255]\n",
    "      return mask"
   ]
  },
  {
   "cell_type": "code",
   "execution_count": 55,
   "metadata": {},
   "outputs": [
    {
     "name": "stdout",
     "output_type": "stream",
     "text": [
      "[122, 42, 55, 0]\n",
      "[255, 255, 255, 0]\n"
     ]
    }
   ],
   "source": [
    "ip = Ipv4([122,42,55,70],24)\n",
    "new_network = ip.getNetwork()\n",
    "print(new_network)\n",
    "new_mask = ip.getMask()\n",
    "print(new_mask)"
   ]
  },
  {
   "cell_type": "code",
   "execution_count": 57,
   "metadata": {},
   "outputs": [
    {
     "name": "stdout",
     "output_type": "stream",
     "text": [
      "[10, 23, 45, 0]\n",
      "[122, 42, 55, 255]\n",
      "First Network [122, 42, 55, 1]\n",
      "Broadcast address is  [122, 42, 55, 254]\n"
     ]
    }
   ],
   "source": [
    "def subnetworkConverter(address,mask):\n",
    "  ip = Ipv4(address,mask)\n",
    "  new_net = ip.getNetwork()\n",
    "  print(new_net)\n",
    "  broadcast_network = []\n",
    "  for i in new_network:\n",
    "    broadcast_network.append(i)\n",
    "  \n",
    "  x=0\n",
    "  y=0\n",
    "  if mask == 8:\n",
    "    while x<3:\n",
    "      broadcast_network.pop()\n",
    "      x+=1\n",
    "    while y<3:\n",
    "      broadcast_network.append(255)\n",
    "      y+=1\n",
    "  if mask == 16:\n",
    "    while x<2:\n",
    "      broadcast_network.pop()\n",
    "      x+=1\n",
    "    while y<2:\n",
    "      broadcast_network.append(255)\n",
    "      y+=1\n",
    "  if mask == 24:\n",
    "    while x<1:\n",
    "      broadcast_network.pop()\n",
    "      x+=1\n",
    "    while y<1:\n",
    "      broadcast_network.append(255)\n",
    "      y+=1\n",
    "  print(broadcast_network)\n",
    "  #print('h',new_network[3])\n",
    "  new_network[3] +=1 \n",
    "  print('First Network',new_network)\n",
    "  broadcast_network[3] = broadcast_network[3]-1\n",
    "  print('Broadcast address is ',broadcast_network)\n",
    "\n",
    "subnetworkConverter([10,23,45,55],24)\n",
    "    \n",
    "\n",
    "\n",
    "\n"
   ]
  },
  {
   "cell_type": "code",
   "execution_count": null,
   "metadata": {},
   "outputs": [],
   "source": []
  }
 ],
 "metadata": {
  "kernelspec": {
   "display_name": "Python 3",
   "language": "python",
   "name": "python3"
  },
  "language_info": {
   "codemirror_mode": {
    "name": "ipython",
    "version": 3
   },
   "file_extension": ".py",
   "mimetype": "text/x-python",
   "name": "python",
   "nbconvert_exporter": "python",
   "pygments_lexer": "ipython3",
   "version": "3.7.6"
  }
 },
 "nbformat": 4,
 "nbformat_minor": 4
}
