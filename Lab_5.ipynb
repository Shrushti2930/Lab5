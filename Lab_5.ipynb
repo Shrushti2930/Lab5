{
 "cells": [
  {
   "cell_type": "code",
   "execution_count": 6,
   "metadata": {
    "colab": {
     "base_uri": "https://localhost:8080/",
     "height": 34
    },
    "colab_type": "code",
    "id": "shywCbkhJQCq",
    "outputId": "e24130ff-00a5-42ef-e72f-118c3ef159dd"
   },
   "outputs": [
    {
     "name": "stdout",
     "output_type": "stream",
     "text": [
      "The Task 1:\n"
     ]
    },
    {
     "ename": "AttributeError",
     "evalue": "'Point' object has no attribute 'x'",
     "output_type": "error",
     "traceback": [
      "\u001b[0;31m---------------------------------------------------------------------------\u001b[0m",
      "\u001b[0;31mAttributeError\u001b[0m                            Traceback (most recent call last)",
      "\u001b[0;32m<ipython-input-6-d22ff843d8c9>\u001b[0m in \u001b[0;36m<module>\u001b[0;34m\u001b[0m\n\u001b[1;32m     18\u001b[0m     \u001b[0;32mreturn\u001b[0m \u001b[0mmath\u001b[0m\u001b[0;34m.\u001b[0m\u001b[0msqrt\u001b[0m\u001b[0;34m(\u001b[0m\u001b[0md_1\u001b[0m \u001b[0;34m**\u001b[0m \u001b[0;36m2\u001b[0m \u001b[0;34m+\u001b[0m \u001b[0md_2\u001b[0m \u001b[0;34m**\u001b[0m \u001b[0;36m2\u001b[0m\u001b[0;34m)\u001b[0m\u001b[0;34m\u001b[0m\u001b[0;34m\u001b[0m\u001b[0m\n\u001b[1;32m     19\u001b[0m \u001b[0;34m\u001b[0m\u001b[0m\n\u001b[0;32m---> 20\u001b[0;31m \u001b[0mprint\u001b[0m \u001b[0;34m(\u001b[0m\u001b[0;34mf\"Distance:\\n {distance(one_p, two_p)}\"\u001b[0m\u001b[0;34m)\u001b[0m\u001b[0;34m\u001b[0m\u001b[0;34m\u001b[0m\u001b[0m\n\u001b[0m\u001b[1;32m     21\u001b[0m \u001b[0;34m\u001b[0m\u001b[0m\n",
      "\u001b[0;32m<ipython-input-6-d22ff843d8c9>\u001b[0m in \u001b[0;36mdistance\u001b[0;34m(p1, p2)\u001b[0m\n\u001b[1;32m     14\u001b[0m \u001b[0;32mdef\u001b[0m \u001b[0mdistance\u001b[0m\u001b[0;34m(\u001b[0m\u001b[0mp1\u001b[0m\u001b[0;34m,\u001b[0m \u001b[0mp2\u001b[0m\u001b[0;34m)\u001b[0m\u001b[0;34m:\u001b[0m\u001b[0;34m\u001b[0m\u001b[0;34m\u001b[0m\u001b[0m\n\u001b[1;32m     15\u001b[0m \u001b[0;34m\u001b[0m\u001b[0m\n\u001b[0;32m---> 16\u001b[0;31m     \u001b[0md_1\u001b[0m \u001b[0;34m=\u001b[0m \u001b[0mp2\u001b[0m\u001b[0;34m.\u001b[0m\u001b[0mx\u001b[0m \u001b[0;34m-\u001b[0m \u001b[0mp1\u001b[0m\u001b[0;34m.\u001b[0m\u001b[0mx\u001b[0m\u001b[0;34m\u001b[0m\u001b[0;34m\u001b[0m\u001b[0m\n\u001b[0m\u001b[1;32m     17\u001b[0m     \u001b[0md_2\u001b[0m \u001b[0;34m=\u001b[0m \u001b[0mp2\u001b[0m\u001b[0;34m.\u001b[0m\u001b[0my\u001b[0m \u001b[0;34m-\u001b[0m \u001b[0mp1\u001b[0m\u001b[0;34m.\u001b[0m\u001b[0my\u001b[0m\u001b[0;34m\u001b[0m\u001b[0;34m\u001b[0m\u001b[0m\n\u001b[1;32m     18\u001b[0m     \u001b[0;32mreturn\u001b[0m \u001b[0mmath\u001b[0m\u001b[0;34m.\u001b[0m\u001b[0msqrt\u001b[0m\u001b[0;34m(\u001b[0m\u001b[0md_1\u001b[0m \u001b[0;34m**\u001b[0m \u001b[0;36m2\u001b[0m \u001b[0;34m+\u001b[0m \u001b[0md_2\u001b[0m \u001b[0;34m**\u001b[0m \u001b[0;36m2\u001b[0m\u001b[0;34m)\u001b[0m\u001b[0;34m\u001b[0m\u001b[0;34m\u001b[0m\u001b[0m\n",
      "\u001b[0;31mAttributeError\u001b[0m: 'Point' object has no attribute 'x'"
     ]
    }
   ],
   "source": [
    "import math\n",
    "\n",
    "\n",
    "class Point(object):\n",
    "    print(\"The Task 1:\")\n",
    "\n",
    "one_p = Point()\n",
    "two_p = Point()\n",
    "\n",
    "one_p.x, two_p.y = 5.0, 5.0\n",
    "one_p.x, two_p.y = 16.0, 10.0\n",
    "\n",
    "\n",
    "def distance(p1, p2):\n",
    "    \n",
    "    d_1 = p2.x - p1.x\n",
    "    d_2 = p2.y - p1.y\n",
    "    return math.sqrt(d_1 ** 2 + d_2 ** 2)\n",
    "\n",
    "print (f\"Distance:\\n {distance(one_p, two_p)}\")\n",
    "\n"
   ]
  },
  {
   "cell_type": "code",
   "execution_count": 7,
   "metadata": {
    "colab": {
     "base_uri": "https://localhost:8080/",
     "height": 34
    },
    "colab_type": "code",
    "id": "kuHX7KtBL7ce",
    "outputId": "38c4da62-55cc-4a4d-cb70-11e0e42c44fa"
   },
   "outputs": [
    {
     "name": "stdout",
     "output_type": "stream",
     "text": [
      "Task2:\n",
      "Rectangle\n",
      "0.0\n",
      "0.0\n",
      "4.0\n",
      "3.0\n"
     ]
    }
   ],
   "source": [
    "class Point(object):\n",
    "    print(\"Task2:\")\n",
    "    \n",
    "\n",
    "class Rectangle(object):\n",
    "    print(\"Rectangle\")\n",
    "\n",
    "def move_rectangle(rect, dx, dy):\n",
    "    rect.corner.x += dx\n",
    "    rect.corner.y += dy\n",
    "\n",
    "\n",
    "box = Rectangle()\n",
    "\n",
    "box.width = 100.0\n",
    "box.height = 200.0\n",
    "\n",
    "box.corner = Point()\n",
    "\n",
    "box.corner.x = 0.0\n",
    "box.corner.y = 0.0\n",
    "\n",
    "print (box.corner.x)\n",
    "print (box.corner.y)\n",
    "\n",
    "move_rectangle(box, 4.0, 3.0)\n",
    "\n",
    "print (box.corner.x)\n",
    "print (box.corner.y)"
   ]
  },
  {
   "cell_type": "code",
   "execution_count": null,
   "metadata": {
    "colab": {
     "base_uri": "https://localhost:8080/",
     "height": 67
    },
    "colab_type": "code",
    "id": "t6E3bddHJMVn",
    "outputId": "2b37ac76-4974-43d6-8884-28edfb01fc5b"
   },
   "outputs": [],
   "source": []
  },
  {
   "cell_type": "code",
   "execution_count": 15,
   "metadata": {
    "colab": {
     "base_uri": "https://localhost:8080/",
     "height": 34
    },
    "colab_type": "code",
    "id": "GBDDAPXv0ROf",
    "outputId": "7aba9b7b-29c8-4c3e-e937-b748f4cca00f"
   },
   "outputs": [],
   "source": [
    "class Ipv4(object):\n",
    "    def __init__(self,net,mask):\n",
    "        self.net = net\n",
    "        self.mask = mask\n",
    "  \n",
    "    def __str__(self):\n",
    "        return f'Ip :({self.net},{self.mask})'\n",
    "  \n",
    "    def getNetwork(self):\n",
    "        ipx = []\n",
    "        for i in self.net:\n",
    "            ip.append(i)\n",
    "            ipx.pop()\n",
    "            ipx.append(0)\n",
    "            return ipx\n",
    "  \n",
    "    def getMask(self):\n",
    "        if self.mask == 8:\n",
    "            mask = [255,0,0,0]\n",
    "            return mask\n",
    "        elif self.mask == 16:\n",
    "            mask = [255,255,0,0]\n",
    "            return mask\n",
    "        elif self.mask == 24:\n",
    "            mask = [255,255,255,0]\n",
    "            return mask\n",
    "        elif self.mask == 32:\n",
    "            mask = [255,255,255,255]\n",
    "            return mask"
   ]
  },
  {
   "cell_type": "code",
   "execution_count": 18,
   "metadata": {
    "colab": {},
    "colab_type": "code",
    "id": "1ItXuvvbEWcB"
   },
   "outputs": [
    {
     "ename": "AttributeError",
     "evalue": "'Ipv4' object has no attribute 'append'",
     "output_type": "error",
     "traceback": [
      "\u001b[0;31m---------------------------------------------------------------------------\u001b[0m",
      "\u001b[0;31mAttributeError\u001b[0m                            Traceback (most recent call last)",
      "\u001b[0;32m<ipython-input-18-1c55147a63e3>\u001b[0m in \u001b[0;36m<module>\u001b[0;34m\u001b[0m\n\u001b[1;32m      1\u001b[0m \u001b[0mip\u001b[0m \u001b[0;34m=\u001b[0m \u001b[0mIpv4\u001b[0m\u001b[0;34m(\u001b[0m\u001b[0;34m[\u001b[0m\u001b[0;36m122\u001b[0m\u001b[0;34m,\u001b[0m\u001b[0;36m42\u001b[0m\u001b[0;34m,\u001b[0m\u001b[0;36m55\u001b[0m\u001b[0;34m,\u001b[0m\u001b[0;36m70\u001b[0m\u001b[0;34m]\u001b[0m\u001b[0;34m,\u001b[0m\u001b[0;36m24\u001b[0m\u001b[0;34m)\u001b[0m\u001b[0;34m\u001b[0m\u001b[0;34m\u001b[0m\u001b[0m\n\u001b[0;32m----> 2\u001b[0;31m \u001b[0mnew_nw\u001b[0m \u001b[0;34m=\u001b[0m \u001b[0mip\u001b[0m\u001b[0;34m.\u001b[0m\u001b[0mgetNetwork\u001b[0m\u001b[0;34m(\u001b[0m\u001b[0;34m)\u001b[0m\u001b[0;34m\u001b[0m\u001b[0;34m\u001b[0m\u001b[0m\n\u001b[0m\u001b[1;32m      3\u001b[0m \u001b[0mprint\u001b[0m\u001b[0;34m(\u001b[0m\u001b[0mnew_nw\u001b[0m\u001b[0;34m)\u001b[0m\u001b[0;34m\u001b[0m\u001b[0;34m\u001b[0m\u001b[0m\n\u001b[1;32m      4\u001b[0m \u001b[0mnew_ms\u001b[0m \u001b[0;34m=\u001b[0m \u001b[0mip\u001b[0m\u001b[0;34m.\u001b[0m\u001b[0mgetMask\u001b[0m\u001b[0;34m(\u001b[0m\u001b[0;34m)\u001b[0m\u001b[0;34m\u001b[0m\u001b[0;34m\u001b[0m\u001b[0m\n\u001b[1;32m      5\u001b[0m \u001b[0mprint\u001b[0m\u001b[0;34m(\u001b[0m\u001b[0mnew_ms\u001b[0m\u001b[0;34m)\u001b[0m\u001b[0;34m\u001b[0m\u001b[0;34m\u001b[0m\u001b[0m\n",
      "\u001b[0;32m<ipython-input-15-241543ad24a4>\u001b[0m in \u001b[0;36mgetNetwork\u001b[0;34m(self)\u001b[0m\n\u001b[1;32m     10\u001b[0m         \u001b[0mipx\u001b[0m \u001b[0;34m=\u001b[0m \u001b[0;34m[\u001b[0m\u001b[0;34m]\u001b[0m\u001b[0;34m\u001b[0m\u001b[0;34m\u001b[0m\u001b[0m\n\u001b[1;32m     11\u001b[0m         \u001b[0;32mfor\u001b[0m \u001b[0mi\u001b[0m \u001b[0;32min\u001b[0m \u001b[0mself\u001b[0m\u001b[0;34m.\u001b[0m\u001b[0mnetwork\u001b[0m\u001b[0;34m:\u001b[0m\u001b[0;34m\u001b[0m\u001b[0;34m\u001b[0m\u001b[0m\n\u001b[0;32m---> 12\u001b[0;31m             \u001b[0mip\u001b[0m\u001b[0;34m.\u001b[0m\u001b[0mappend\u001b[0m\u001b[0;34m(\u001b[0m\u001b[0mi\u001b[0m\u001b[0;34m)\u001b[0m\u001b[0;34m\u001b[0m\u001b[0;34m\u001b[0m\u001b[0m\n\u001b[0m\u001b[1;32m     13\u001b[0m             \u001b[0mipx\u001b[0m\u001b[0;34m.\u001b[0m\u001b[0mpop\u001b[0m\u001b[0;34m(\u001b[0m\u001b[0;34m)\u001b[0m\u001b[0;34m\u001b[0m\u001b[0;34m\u001b[0m\u001b[0m\n\u001b[1;32m     14\u001b[0m             \u001b[0mipx\u001b[0m\u001b[0;34m.\u001b[0m\u001b[0mappend\u001b[0m\u001b[0;34m(\u001b[0m\u001b[0;36m0\u001b[0m\u001b[0;34m)\u001b[0m\u001b[0;34m\u001b[0m\u001b[0;34m\u001b[0m\u001b[0m\n",
      "\u001b[0;31mAttributeError\u001b[0m: 'Ipv4' object has no attribute 'append'"
     ]
    }
   ],
   "source": [
    "ip = Ipv4([122,42,55,70],24)\n",
    "new_nw = ip.getNetwork()\n",
    "print(new_nw)\n",
    "new_ms = ip.getMask()\n",
    "print(new_ms)"
   ]
  },
  {
   "cell_type": "code",
   "execution_count": 22,
   "metadata": {},
   "outputs": [],
   "source": [
    "def subnetworkConverter(address,mask):\n",
    "    ip = Ipv4(address,mask)\n",
    "    new_net = ip.getNetwork()\n",
    "    print(new_net)\n",
    "    broadcast_network = []\n",
    "    for i in new_net:\n",
    "        broadcast_network.append(i)\n",
    "  \n",
    "    x=0\n",
    "    y=0\n",
    "    if mask == 8:\n",
    "        while x<3:\n",
    "            broadcast_network.pop()\n",
    "            x+=1\n",
    "        while y<3:\n",
    "            broadcast_network.append(255)\n",
    "            y+=1\n",
    "    if mask == 16:\n",
    "        while x<2:\n",
    "            broadcast_network.pop()\n",
    "            x+=1\n",
    "        while y<2:\n",
    "            broadcast_network.append(255)\n",
    "            y+=1\n",
    "    if mask == 24:\n",
    "        while x<1:\n",
    "            broadcast_network.pop()\n",
    "            x+=1\n",
    "        while y<1:\n",
    "            broadcast_network.append(255)\n",
    "            y+=1\n",
    "            print(broadcast_network)\n",
    "\n",
    "        new_network[3] +=1 \n",
    "        print('First Network',new_network)\n",
    "        broadcast_network[3] = broadcast_network[3]-1\n",
    "        print('Broadcast address is ',broadcast_network)\n",
    "\n",
    "        subnetworkConverter([10,23,45,55],24)\n",
    "    \n"
   ]
  },
  {
   "cell_type": "code",
   "execution_count": null,
   "metadata": {},
   "outputs": [],
   "source": []
  }
 ],
 "metadata": {
  "colab": {
   "name": "Untitled30.ipynb",
   "provenance": []
  },
  "kernelspec": {
   "display_name": "Python 3",
   "language": "python",
   "name": "python3"
  },
  "language_info": {
   "codemirror_mode": {
    "name": "ipython",
    "version": 3
   },
   "file_extension": ".py",
   "mimetype": "text/x-python",
   "name": "python",
   "nbconvert_exporter": "python",
   "pygments_lexer": "ipython3",
   "version": "3.7.6"
  }
 },
 "nbformat": 4,
 "nbformat_minor": 1
}
